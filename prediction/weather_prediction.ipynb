{
 "cells": [
  {
   "cell_type": "code",
   "execution_count": 82,
   "id": "12fe16d2",
   "metadata": {},
   "outputs": [],
   "source": [
    "# Cleaning data\n",
    "\n",
    "#!pip install scikit-learn\n",
    "from sklearn.model_selection import train_test_split\n",
    "\n",
    "#!pip install pandas\n",
    "import pandas as pd \n",
    "\n",
    "mythenquai = pd.read_csv('./input/messwerte_mythenquai_2007-2021.csv')\n",
    "tiefenbrunnen = pd.read_csv('./input/messwerte_tiefenbrunnen_2007-2021.csv')\n",
    "\n",
    "mythenquai['station'] = 'mythenquai'\n",
    "tiefenbrunnen['station'] = 'tiefenbrunnen'\n",
    "\n",
    "data = pd.concat([mythenquai, tiefenbrunnen])\n",
    "\n",
    "# drop timestamp_utc, global_radiation, water_level and na values\n",
    "data = data.drop(columns=['timestamp_utc', 'global_radiation', 'water_level'], axis=1)\n",
    "data = data.dropna(how='any')"
   ]
  },
  {
   "cell_type": "code",
   "execution_count": 93,
   "id": "0110cf2c",
   "metadata": {},
   "outputs": [],
   "source": [
    "from sklearn.neighbors import KNeighborsRegressor\n",
    "from sklearn import preprocessing\n",
    "\n",
    "le = preprocessing.LabelEncoder()\n",
    "data['timestamp_cet'] = le.fit_transform(data['timestamp_cet'])\n",
    "data['station'] = le.fit_transform(data['station'])\n",
    "\n",
    "Y = data['air_temperature']\n",
    "X = data.drop(columns=['air_temperature'])\n",
    "\n",
    "X_train, X_test, Y_train, Y_test = train_test_split(X, Y, test_size=0.3, random_state=9)\n",
    "\n",
    "# defining the model\n",
    "model = KNeighborsRegressor(n_neighbors=60,n_jobs=-1)\n",
    "\n",
    "# training model\n",
    "\n",
    "model.fit(X_train, Y_train)\n",
    "\n",
    "# predicting target values\n",
    "Y_predict6 = model.predict(X_test)"
   ]
  },
  {
   "cell_type": "code",
   "execution_count": 94,
   "id": "1667330f",
   "metadata": {},
   "outputs": [
    {
     "data": {
      "text/html": [
       "<div>\n",
       "<style scoped>\n",
       "    .dataframe tbody tr th:only-of-type {\n",
       "        vertical-align: middle;\n",
       "    }\n",
       "\n",
       "    .dataframe tbody tr th {\n",
       "        vertical-align: top;\n",
       "    }\n",
       "\n",
       "    .dataframe thead th {\n",
       "        text-align: right;\n",
       "    }\n",
       "</style>\n",
       "<table border=\"1\" class=\"dataframe\">\n",
       "  <thead>\n",
       "    <tr style=\"text-align: right;\">\n",
       "      <th></th>\n",
       "      <th>Model</th>\n",
       "      <th>Train Score</th>\n",
       "      <th>Test Score</th>\n",
       "    </tr>\n",
       "  </thead>\n",
       "  <tbody>\n",
       "    <tr>\n",
       "      <th>0</th>\n",
       "      <td>KNN</td>\n",
       "      <td>92.22</td>\n",
       "      <td>91.91</td>\n",
       "    </tr>\n",
       "  </tbody>\n",
       "</table>\n",
       "</div>"
      ],
      "text/plain": [
       "  Model  Train Score  Test Score\n",
       "0   KNN        92.22       91.91"
      ]
     },
     "execution_count": 94,
     "metadata": {},
     "output_type": "execute_result"
    }
   ],
   "source": [
    "# test accuracy of trained model\n",
    "test_acc_model = round(model.fit(X_train,Y_train).score(X_test, Y_test)* 100, 2)\n",
    "train_acc_model = round(model.fit(X_train, Y_train).score(X_train, Y_train)* 100, 2)\n",
    "\n",
    "model1 = pd.DataFrame({\n",
    "    'Model': ['KNN'],\n",
    "    'Train Score': [train_acc_model],\n",
    "    'Test Score': [test_acc_model]\n",
    "})\n",
    "\n",
    "model1.sort_values(by='Test Score', ascending=False)"
   ]
  },
  {
   "cell_type": "code",
   "execution_count": 169,
   "id": "31e5db6d",
   "metadata": {},
   "outputs": [
    {
     "data": {
      "text/plain": [
       "array([18.62666667])"
      ]
     },
     "execution_count": 169,
     "metadata": {},
     "output_type": "execute_result"
    }
   ],
   "source": [
    "# making a prediction for given day\n",
    "cols = ['timestamp_cet','water_temperature','wind_gust_max_10min','wind_speed_avg_10min','wind_force_avg_10min','wind_direction','windchill','barometric_pressure_qfe','precipitation','dew_point','humidity','station']\n",
    "\n",
    "input1 = pd.read_csv('./input/input.csv')\n",
    "input1['station'] = 'mythenquai'\n",
    "input1 = input1.drop(columns=['timestamp_utc', 'global_radiation', 'water_level','air_temperature'], axis=1)\n",
    "input1['timestamp_cet'] = le.fit_transform(input1['timestamp_cet'])\n",
    "input1['station'] = le.fit_transform(input1['station'])\n",
    "\n",
    "Y_prediction = model.predict(input1)\n",
    "\n",
    "Y_prediction"
   ]
  }
 ],
 "metadata": {
  "kernelspec": {
   "display_name": "Python 3 (ipykernel)",
   "language": "python",
   "name": "python3"
  },
  "language_info": {
   "codemirror_mode": {
    "name": "ipython",
    "version": 3
   },
   "file_extension": ".py",
   "mimetype": "text/x-python",
   "name": "python",
   "nbconvert_exporter": "python",
   "pygments_lexer": "ipython3",
   "version": "3.10.7"
  }
 },
 "nbformat": 4,
 "nbformat_minor": 5
}
