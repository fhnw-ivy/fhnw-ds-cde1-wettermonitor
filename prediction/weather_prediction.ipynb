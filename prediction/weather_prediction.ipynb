{
 "cells": [
  {
   "cell_type": "code",
   "execution_count": 4,
   "id": "d42eedfe",
   "metadata": {},
   "outputs": [],
   "source": [
    "# Package usage\n",
    "\n",
    "#!pip install scikit-learn\n",
    "#!pip install pandas\n",
    "\n",
    "from sklearn.model_selection import train_test_split\n",
    "from sklearn.neighbors import KNeighborsRegressor\n",
    "from sklearn import preprocessing\n",
    "from sklearn.multioutput import MultiOutputRegressor\n",
    "import pandas as pd "
   ]
  },
  {
   "cell_type": "code",
   "execution_count": 1,
   "id": "12fe16d2",
   "metadata": {
    "pycharm": {
     "is_executing": true,
     "name": "#%%\n"
    },
    "scrolled": true
   },
   "outputs": [
    {
     "data": {
      "text/html": [
       "<div>\n",
       "<style scoped>\n",
       "    .dataframe tbody tr th:only-of-type {\n",
       "        vertical-align: middle;\n",
       "    }\n",
       "\n",
       "    .dataframe tbody tr th {\n",
       "        vertical-align: top;\n",
       "    }\n",
       "\n",
       "    .dataframe thead th {\n",
       "        text-align: right;\n",
       "    }\n",
       "</style>\n",
       "<table border=\"1\" class=\"dataframe\">\n",
       "  <thead>\n",
       "    <tr style=\"text-align: right;\">\n",
       "      <th></th>\n",
       "      <th>station</th>\n",
       "      <th>air_temperature_10min_before</th>\n",
       "      <th>wind_speed_avg_10min_before</th>\n",
       "      <th>wind_direction_10min_before</th>\n",
       "      <th>wind_speed_avg_10min</th>\n",
       "      <th>wind_direction</th>\n",
       "      <th>day</th>\n",
       "      <th>month</th>\n",
       "      <th>year</th>\n",
       "    </tr>\n",
       "  </thead>\n",
       "  <tbody>\n",
       "    <tr>\n",
       "      <th>1</th>\n",
       "      <td>mythenquai</td>\n",
       "      <td>321.0</td>\n",
       "      <td>0.7</td>\n",
       "      <td>321.0</td>\n",
       "      <td>0.8</td>\n",
       "      <td>346</td>\n",
       "      <td>22</td>\n",
       "      <td>4</td>\n",
       "      <td>2007</td>\n",
       "    </tr>\n",
       "    <tr>\n",
       "      <th>2</th>\n",
       "      <td>mythenquai</td>\n",
       "      <td>346.0</td>\n",
       "      <td>0.8</td>\n",
       "      <td>346.0</td>\n",
       "      <td>0.2</td>\n",
       "      <td>4</td>\n",
       "      <td>22</td>\n",
       "      <td>4</td>\n",
       "      <td>2007</td>\n",
       "    </tr>\n",
       "    <tr>\n",
       "      <th>3</th>\n",
       "      <td>mythenquai</td>\n",
       "      <td>4.0</td>\n",
       "      <td>0.2</td>\n",
       "      <td>4.0</td>\n",
       "      <td>0.1</td>\n",
       "      <td>235</td>\n",
       "      <td>22</td>\n",
       "      <td>4</td>\n",
       "      <td>2007</td>\n",
       "    </tr>\n",
       "    <tr>\n",
       "      <th>4</th>\n",
       "      <td>mythenquai</td>\n",
       "      <td>235.0</td>\n",
       "      <td>0.1</td>\n",
       "      <td>235.0</td>\n",
       "      <td>0.3</td>\n",
       "      <td>178</td>\n",
       "      <td>22</td>\n",
       "      <td>4</td>\n",
       "      <td>2007</td>\n",
       "    </tr>\n",
       "    <tr>\n",
       "      <th>5</th>\n",
       "      <td>mythenquai</td>\n",
       "      <td>178.0</td>\n",
       "      <td>0.3</td>\n",
       "      <td>178.0</td>\n",
       "      <td>0.5</td>\n",
       "      <td>153</td>\n",
       "      <td>22</td>\n",
       "      <td>4</td>\n",
       "      <td>2007</td>\n",
       "    </tr>\n",
       "    <tr>\n",
       "      <th>...</th>\n",
       "      <td>...</td>\n",
       "      <td>...</td>\n",
       "      <td>...</td>\n",
       "      <td>...</td>\n",
       "      <td>...</td>\n",
       "      <td>...</td>\n",
       "      <td>...</td>\n",
       "      <td>...</td>\n",
       "      <td>...</td>\n",
       "    </tr>\n",
       "    <tr>\n",
       "      <th>757532</th>\n",
       "      <td>tiefenbrunnen</td>\n",
       "      <td>345.0</td>\n",
       "      <td>0.4</td>\n",
       "      <td>345.0</td>\n",
       "      <td>0.0</td>\n",
       "      <td>0</td>\n",
       "      <td>31</td>\n",
       "      <td>12</td>\n",
       "      <td>2021</td>\n",
       "    </tr>\n",
       "    <tr>\n",
       "      <th>757533</th>\n",
       "      <td>tiefenbrunnen</td>\n",
       "      <td>0.0</td>\n",
       "      <td>0.0</td>\n",
       "      <td>0.0</td>\n",
       "      <td>0.0</td>\n",
       "      <td>0</td>\n",
       "      <td>31</td>\n",
       "      <td>12</td>\n",
       "      <td>2021</td>\n",
       "    </tr>\n",
       "    <tr>\n",
       "      <th>757534</th>\n",
       "      <td>tiefenbrunnen</td>\n",
       "      <td>0.0</td>\n",
       "      <td>0.0</td>\n",
       "      <td>0.0</td>\n",
       "      <td>0.0</td>\n",
       "      <td>0</td>\n",
       "      <td>31</td>\n",
       "      <td>12</td>\n",
       "      <td>2021</td>\n",
       "    </tr>\n",
       "    <tr>\n",
       "      <th>757535</th>\n",
       "      <td>tiefenbrunnen</td>\n",
       "      <td>0.0</td>\n",
       "      <td>0.0</td>\n",
       "      <td>0.0</td>\n",
       "      <td>0.0</td>\n",
       "      <td>0</td>\n",
       "      <td>31</td>\n",
       "      <td>12</td>\n",
       "      <td>2021</td>\n",
       "    </tr>\n",
       "    <tr>\n",
       "      <th>757536</th>\n",
       "      <td>tiefenbrunnen</td>\n",
       "      <td>0.0</td>\n",
       "      <td>0.0</td>\n",
       "      <td>0.0</td>\n",
       "      <td>0.0</td>\n",
       "      <td>102</td>\n",
       "      <td>31</td>\n",
       "      <td>12</td>\n",
       "      <td>2021</td>\n",
       "    </tr>\n",
       "  </tbody>\n",
       "</table>\n",
       "<p>1516655 rows × 9 columns</p>\n",
       "</div>"
      ],
      "text/plain": [
       "              station  air_temperature_10min_before  \\\n",
       "1          mythenquai                         321.0   \n",
       "2          mythenquai                         346.0   \n",
       "3          mythenquai                           4.0   \n",
       "4          mythenquai                         235.0   \n",
       "5          mythenquai                         178.0   \n",
       "...               ...                           ...   \n",
       "757532  tiefenbrunnen                         345.0   \n",
       "757533  tiefenbrunnen                           0.0   \n",
       "757534  tiefenbrunnen                           0.0   \n",
       "757535  tiefenbrunnen                           0.0   \n",
       "757536  tiefenbrunnen                           0.0   \n",
       "\n",
       "        wind_speed_avg_10min_before  wind_direction_10min_before  \\\n",
       "1                               0.7                        321.0   \n",
       "2                               0.8                        346.0   \n",
       "3                               0.2                          4.0   \n",
       "4                               0.1                        235.0   \n",
       "5                               0.3                        178.0   \n",
       "...                             ...                          ...   \n",
       "757532                          0.4                        345.0   \n",
       "757533                          0.0                          0.0   \n",
       "757534                          0.0                          0.0   \n",
       "757535                          0.0                          0.0   \n",
       "757536                          0.0                          0.0   \n",
       "\n",
       "        wind_speed_avg_10min  wind_direction  day  month  year  \n",
       "1                        0.8             346   22      4  2007  \n",
       "2                        0.2               4   22      4  2007  \n",
       "3                        0.1             235   22      4  2007  \n",
       "4                        0.3             178   22      4  2007  \n",
       "5                        0.5             153   22      4  2007  \n",
       "...                      ...             ...  ...    ...   ...  \n",
       "757532                   0.0               0   31     12  2021  \n",
       "757533                   0.0               0   31     12  2021  \n",
       "757534                   0.0               0   31     12  2021  \n",
       "757535                   0.0               0   31     12  2021  \n",
       "757536                   0.0             102   31     12  2021  \n",
       "\n",
       "[1516655 rows x 9 columns]"
      ]
     },
     "execution_count": 1,
     "metadata": {},
     "output_type": "execute_result"
    }
   ],
   "source": [
    "# Import datasets\n",
    "mythenquai = pd.read_csv('./input/messwerte_mythenquai_2007-2021.csv')\n",
    "tiefenbrunnen = pd.read_csv('./input/messwerte_tiefenbrunnen_2007-2021.csv')\n",
    "\n",
    "# Setting name of each dataset to keep track of the source\n",
    "mythenquai['station'] = 'mythenquai'\n",
    "tiefenbrunnen['station'] = 'tiefenbrunnen'\n",
    "\n",
    "# Concatenating datasets from both stations\n",
    "data = pd.concat([mythenquai, tiefenbrunnen])\n",
    "\n",
    "# Reference metrics from datapoint 10 minutes before\n",
    "data['wind_speed_avg_10min_before'] = data['wind_speed_avg_10min'].shift(1)\n",
    "data['wind_direction_10min_before'] = data['wind_direction'].shift(1)\n",
    "data['air_temperature_10min_before'] = data['wind_direction'].shift(1)\n",
    "\n",
    "# Put Day, Month and Year into separate columns\n",
    "data['timestamp_utc']= pd.to_datetime(data['timestamp_utc'])\n",
    "data['day'] = data.timestamp_utc.dt.day\n",
    "data['month'] = data.timestamp_utc.dt.month\n",
    "data['year'] = data.timestamp_utc.dt.year\n",
    "\n",
    "# Drop timestamp_utc, global_radiation, water_level and na values\n",
    "data = data.filter(['station', 'air_temperature_10min_before', 'wind_speed_avg_10min_before', 'wind_direction_10min_before', 'wind_speed_avg_10min', 'wind_direction', 'day', 'month', 'year'], axis=1)\n",
    "data = data.dropna(how='any')\n",
    "\n",
    "# Display current dataset\n",
    "data"
   ]
  },
  {
   "cell_type": "code",
   "execution_count": 2,
   "id": "0110cf2c",
   "metadata": {
    "pycharm": {
     "name": "#%%\n"
    }
   },
   "outputs": [
    {
     "data": {
      "text/html": [
       "<style>#sk-container-id-1 {color: black;background-color: white;}#sk-container-id-1 pre{padding: 0;}#sk-container-id-1 div.sk-toggleable {background-color: white;}#sk-container-id-1 label.sk-toggleable__label {cursor: pointer;display: block;width: 100%;margin-bottom: 0;padding: 0.3em;box-sizing: border-box;text-align: center;}#sk-container-id-1 label.sk-toggleable__label-arrow:before {content: \"▸\";float: left;margin-right: 0.25em;color: #696969;}#sk-container-id-1 label.sk-toggleable__label-arrow:hover:before {color: black;}#sk-container-id-1 div.sk-estimator:hover label.sk-toggleable__label-arrow:before {color: black;}#sk-container-id-1 div.sk-toggleable__content {max-height: 0;max-width: 0;overflow: hidden;text-align: left;background-color: #f0f8ff;}#sk-container-id-1 div.sk-toggleable__content pre {margin: 0.2em;color: black;border-radius: 0.25em;background-color: #f0f8ff;}#sk-container-id-1 input.sk-toggleable__control:checked~div.sk-toggleable__content {max-height: 200px;max-width: 100%;overflow: auto;}#sk-container-id-1 input.sk-toggleable__control:checked~label.sk-toggleable__label-arrow:before {content: \"▾\";}#sk-container-id-1 div.sk-estimator input.sk-toggleable__control:checked~label.sk-toggleable__label {background-color: #d4ebff;}#sk-container-id-1 div.sk-label input.sk-toggleable__control:checked~label.sk-toggleable__label {background-color: #d4ebff;}#sk-container-id-1 input.sk-hidden--visually {border: 0;clip: rect(1px 1px 1px 1px);clip: rect(1px, 1px, 1px, 1px);height: 1px;margin: -1px;overflow: hidden;padding: 0;position: absolute;width: 1px;}#sk-container-id-1 div.sk-estimator {font-family: monospace;background-color: #f0f8ff;border: 1px dotted black;border-radius: 0.25em;box-sizing: border-box;margin-bottom: 0.5em;}#sk-container-id-1 div.sk-estimator:hover {background-color: #d4ebff;}#sk-container-id-1 div.sk-parallel-item::after {content: \"\";width: 100%;border-bottom: 1px solid gray;flex-grow: 1;}#sk-container-id-1 div.sk-label:hover label.sk-toggleable__label {background-color: #d4ebff;}#sk-container-id-1 div.sk-serial::before {content: \"\";position: absolute;border-left: 1px solid gray;box-sizing: border-box;top: 0;bottom: 0;left: 50%;z-index: 0;}#sk-container-id-1 div.sk-serial {display: flex;flex-direction: column;align-items: center;background-color: white;padding-right: 0.2em;padding-left: 0.2em;position: relative;}#sk-container-id-1 div.sk-item {position: relative;z-index: 1;}#sk-container-id-1 div.sk-parallel {display: flex;align-items: stretch;justify-content: center;background-color: white;position: relative;}#sk-container-id-1 div.sk-item::before, #sk-container-id-1 div.sk-parallel-item::before {content: \"\";position: absolute;border-left: 1px solid gray;box-sizing: border-box;top: 0;bottom: 0;left: 50%;z-index: -1;}#sk-container-id-1 div.sk-parallel-item {display: flex;flex-direction: column;z-index: 1;position: relative;background-color: white;}#sk-container-id-1 div.sk-parallel-item:first-child::after {align-self: flex-end;width: 50%;}#sk-container-id-1 div.sk-parallel-item:last-child::after {align-self: flex-start;width: 50%;}#sk-container-id-1 div.sk-parallel-item:only-child::after {width: 0;}#sk-container-id-1 div.sk-dashed-wrapped {border: 1px dashed gray;margin: 0 0.4em 0.5em 0.4em;box-sizing: border-box;padding-bottom: 0.4em;background-color: white;}#sk-container-id-1 div.sk-label label {font-family: monospace;font-weight: bold;display: inline-block;line-height: 1.2em;}#sk-container-id-1 div.sk-label-container {text-align: center;}#sk-container-id-1 div.sk-container {/* jupyter's `normalize.less` sets `[hidden] { display: none; }` but bootstrap.min.css set `[hidden] { display: none !important; }` so we also need the `!important` here to be able to override the default hidden behavior on the sphinx rendered scikit-learn.org. See: https://github.com/scikit-learn/scikit-learn/issues/21755 */display: inline-block !important;position: relative;}#sk-container-id-1 div.sk-text-repr-fallback {display: none;}</style><div id=\"sk-container-id-1\" class=\"sk-top-container\"><div class=\"sk-text-repr-fallback\"><pre>MultiOutputRegressor(estimator=KNeighborsRegressor(n_jobs=-1, n_neighbors=35))</pre><b>In a Jupyter environment, please rerun this cell to show the HTML representation or trust the notebook. <br />On GitHub, the HTML representation is unable to render, please try loading this page with nbviewer.org.</b></div><div class=\"sk-container\" hidden><div class=\"sk-item sk-dashed-wrapped\"><div class=\"sk-label-container\"><div class=\"sk-label sk-toggleable\"><input class=\"sk-toggleable__control sk-hidden--visually\" id=\"sk-estimator-id-1\" type=\"checkbox\" ><label for=\"sk-estimator-id-1\" class=\"sk-toggleable__label sk-toggleable__label-arrow\">MultiOutputRegressor</label><div class=\"sk-toggleable__content\"><pre>MultiOutputRegressor(estimator=KNeighborsRegressor(n_jobs=-1, n_neighbors=35))</pre></div></div></div><div class=\"sk-parallel\"><div class=\"sk-parallel-item\"><div class=\"sk-item\"><div class=\"sk-label-container\"><div class=\"sk-label sk-toggleable\"><input class=\"sk-toggleable__control sk-hidden--visually\" id=\"sk-estimator-id-2\" type=\"checkbox\" ><label for=\"sk-estimator-id-2\" class=\"sk-toggleable__label sk-toggleable__label-arrow\">estimator: KNeighborsRegressor</label><div class=\"sk-toggleable__content\"><pre>KNeighborsRegressor(n_jobs=-1, n_neighbors=35)</pre></div></div></div><div class=\"sk-serial\"><div class=\"sk-item\"><div class=\"sk-estimator sk-toggleable\"><input class=\"sk-toggleable__control sk-hidden--visually\" id=\"sk-estimator-id-3\" type=\"checkbox\" ><label for=\"sk-estimator-id-3\" class=\"sk-toggleable__label sk-toggleable__label-arrow\">KNeighborsRegressor</label><div class=\"sk-toggleable__content\"><pre>KNeighborsRegressor(n_jobs=-1, n_neighbors=35)</pre></div></div></div></div></div></div></div></div></div></div>"
      ],
      "text/plain": [
       "MultiOutputRegressor(estimator=KNeighborsRegressor(n_jobs=-1, n_neighbors=35))"
      ]
     },
     "execution_count": 2,
     "metadata": {},
     "output_type": "execute_result"
    }
   ],
   "source": [
    "# Set LabelEncoder to process station name inside the model\n",
    "le = preprocessing.LabelEncoder()\n",
    "data['station'] = le.fit_transform(data['station'])\n",
    "\n",
    "# Set features and goal variable(s)\n",
    "Y = data[['wind_speed_avg_10min','wind_direction']]\n",
    "X = data.drop(columns = ['wind_speed_avg_10min','wind_direction'])\n",
    "\n",
    "# Set train/test split\n",
    "X_train, X_test, Y_train, Y_test = train_test_split(X, Y, test_size=0.3, random_state=9)\n",
    "\n",
    "# Defining the KNN regressor\n",
    "model = MultiOutputRegressor(KNeighborsRegressor(n_neighbors=35,n_jobs=-1))\n",
    "\n",
    "# Training the model\n",
    "model.fit(X_train, Y_train)"
   ]
  },
  {
   "cell_type": "code",
   "execution_count": 3,
   "id": "1667330f",
   "metadata": {
    "pycharm": {
     "name": "#%%\n"
    }
   },
   "outputs": [
    {
     "data": {
      "text/html": [
       "<div>\n",
       "<style scoped>\n",
       "    .dataframe tbody tr th:only-of-type {\n",
       "        vertical-align: middle;\n",
       "    }\n",
       "\n",
       "    .dataframe tbody tr th {\n",
       "        vertical-align: top;\n",
       "    }\n",
       "\n",
       "    .dataframe thead th {\n",
       "        text-align: right;\n",
       "    }\n",
       "</style>\n",
       "<table border=\"1\" class=\"dataframe\">\n",
       "  <thead>\n",
       "    <tr style=\"text-align: right;\">\n",
       "      <th></th>\n",
       "      <th>Model</th>\n",
       "      <th>Train Score</th>\n",
       "      <th>Test Score</th>\n",
       "    </tr>\n",
       "  </thead>\n",
       "  <tbody>\n",
       "    <tr>\n",
       "      <th>0</th>\n",
       "      <td>KNN</td>\n",
       "      <td>68.3</td>\n",
       "      <td>66.29</td>\n",
       "    </tr>\n",
       "  </tbody>\n",
       "</table>\n",
       "</div>"
      ],
      "text/plain": [
       "  Model  Train Score  Test Score\n",
       "0   KNN         68.3       66.29"
      ]
     },
     "execution_count": 3,
     "metadata": {},
     "output_type": "execute_result"
    }
   ],
   "source": [
    "# Accuracy of trained model (n_correct_predictions/n_all_predictions)\n",
    "test_acc_model = round(model.fit(X_train,Y_train).score(X_test, Y_test)* 100, 2)\n",
    "train_acc_model = round(model.fit(X_train, Y_train).score(X_train, Y_train)* 100, 2)\n",
    "\n",
    "model_accuracy = pd.DataFrame({\n",
    "    'Model': ['KNN MultiOutputRegressor'],\n",
    "    'Train Score': [train_acc_model],\n",
    "    'Test Score': [test_acc_model]\n",
    "})\n",
    "\n",
    "model_accuracy.sort_values(by='Test Score', ascending=False)"
   ]
  },
  {
   "cell_type": "code",
   "execution_count": 20,
   "id": "31e5db6d",
   "metadata": {
    "pycharm": {
     "name": "#%%\n"
    }
   },
   "outputs": [
    {
     "data": {
      "text/plain": [
       "array([[  4.96571429, 111.97142857]])"
      ]
     },
     "execution_count": 20,
     "metadata": {},
     "output_type": "execute_result"
    }
   ],
   "source": [
    "sample_input = pd.DataFrame({\n",
    "    'station': [1],\n",
    "    'air_temperature_10min_before': [2],\n",
    "    'wind_speed_avg_10min_before': [12],\n",
    "    'wind_direction_10min_before': [200],\n",
    "    'day': [10],\n",
    "    'month': [12],\n",
    "    'year': [2010]\n",
    "})\n",
    "\n",
    "Y_prediction = model.predict(sample_input)\n",
    "\n",
    "Y_prediction"
   ]
  },
  {
   "cell_type": "code",
   "execution_count": null,
   "id": "286c2380",
   "metadata": {
    "pycharm": {
     "name": "#%%\n"
    }
   },
   "outputs": [],
   "source": [
    "import pickle\n",
    "\n",
    "# Persist model\n",
    "filename = 'knn_weather_model.pkl'\n",
    "pickle.dump(model, open(filename, 'wb'))"
   ]
  }
 ],
 "metadata": {
  "kernelspec": {
   "display_name": "Python 3 (ipykernel)",
   "language": "python",
   "name": "python3"
  },
  "language_info": {
   "codemirror_mode": {
    "name": "ipython",
    "version": 3
   },
   "file_extension": ".py",
   "mimetype": "text/x-python",
   "name": "python",
   "nbconvert_exporter": "python",
   "pygments_lexer": "ipython3",
   "version": "3.10.7"
  }
 },
 "nbformat": 4,
 "nbformat_minor": 5
}
